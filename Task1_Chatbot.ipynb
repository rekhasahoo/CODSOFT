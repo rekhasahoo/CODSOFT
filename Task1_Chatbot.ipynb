{
  "nbformat": 4,
  "nbformat_minor": 0,
  "metadata": {
    "colab": {
      "provenance": [],
      "toc_visible": true,
      "authorship_tag": "ABX9TyNVFJ+A+mRGS/5dH36o9GB/",
      "include_colab_link": true
    },
    "kernelspec": {
      "name": "python3",
      "display_name": "Python 3"
    },
    "language_info": {
      "name": "python"
    }
  },
  "cells": [
    {
      "cell_type": "markdown",
      "metadata": {
        "id": "view-in-github",
        "colab_type": "text"
      },
      "source": [
        "<a href=\"https://colab.research.google.com/github/rekhasahoo/CODSOFT/blob/main/Task1_Chatbot.ipynb\" target=\"_parent\"><img src=\"https://colab.research.google.com/assets/colab-badge.svg\" alt=\"Open In Colab\"/></a>"
      ]
    },
    {
      "cell_type": "code",
      "execution_count": null,
      "metadata": {
        "id": "vxOP0Lsmiokk"
      },
      "outputs": [],
      "source": [
        "import re\n",
        "import random"
      ]
    },
    {
      "cell_type": "code",
      "source": [
        "class RuleBot:\n",
        "    ### Potential Negative Responses\n",
        "    negative_responses = (\"no\",\"nah\",\"naw\",\"not a chance\",\"sorry\")\n",
        "    ### Exit converstiom keywords\n",
        "    exit_commands = (\"quit\",\"pause\",\"goodbye\",\"exit\",\"bye\",\"later\")\n",
        "    ### Random starter questions\n",
        "    random_questions = {\n",
        "        \"Why are you here? \",\n",
        "        \"Are there many humans like you? \",\n",
        "        \"What do you consume for sustenance? \",\n",
        "        \"Is there intelligent life on this planet? \",\n",
        "        \"Does Earth have a leader? \",\n",
        "        \"What planets have you visited? \",\n",
        "        \"What technology do you have on this planet? \"\n",
        "\n",
        "    }\n",
        "    def __init__(self):\n",
        "        self.alienbabble = {'describe_planet_intent':r'.*\\s*your planet.*',\n",
        "                        'answer_why_intent':r'why\\sare.*',\n",
        "                        'about_codsoft': r'.*codsoft.*'\n",
        "                        }\n",
        "\n",
        "\n",
        "    def greet(self):\n",
        "        self.name = input(\"what is your name?\\n\")\n",
        "        will_help = input(\n",
        "            f\"Hi {self.name}, I am Rule-Bot. Will you help me learn about your planet?\\n\")\n",
        "        if will_help in self.negative_responses:\n",
        "            print(\"Ok, have a nice Earth day!\")\n",
        "            return\n",
        "        self.chat()\n",
        "    def make_exit(self,reply):\n",
        "        for command in self.exit_commands:\n",
        "            if reply == command:\n",
        "                print(\"Okay,have a nice Earth Day!\")\n",
        "                return True\n",
        "\n",
        "    def chat(self):\n",
        "        reply  = input(random.choice(list(self.random_questions))).lower()\n",
        "        while not self.make_exit(reply):\n",
        "            reply = input(self.match_reply(reply))\n",
        "\n",
        "    def match_reply(self,reply):\n",
        "        for key, value in self.alienbabble.items():\n",
        "            intent = key\n",
        "            regex_pattern = value\n",
        "            found_match = re.match(regex_pattern,reply)\n",
        "            if found_match and intent == 'describe_planet_intent':\n",
        "                return self.describe_planet_intent()\n",
        "            elif found_match and intent == 'answer_why_intent':\n",
        "                return self.answer_why_intent()\n",
        "            elif found_match and intent == 'about_codsoft':\n",
        "                return self.about_codsoft()\n",
        "        if not found_match:\n",
        "            return self.no_match_intent()\n",
        "    def describe_planet_intent(self):\n",
        "        responses = (\"My planet is a utopia of diverse organisms and species.\\n\",\n",
        "                \"I am from Opidipus, the capital of the Wayward Galaxies.\\n\")\n",
        "        return random.choice(responses)\n",
        "\n",
        "    def answer_why_intent(self):\n",
        "        responses = (\"I come in peace\\n\",\"I am here to collect data on your planets and its inhabitants\\n\",\n",
        "                    \"I heard the tea is good\\n\")\n",
        "        return random.choice(responses)\n",
        "\n",
        "    def about_codsoft(self):\n",
        "        responses = (\"CodSoft are IT services and IT consultancy  that specializes in creating innovative solutions for businesses.\",\n",
        "        \"We are passionate about technology and believe in the power of software to transform the world.\",\n",
        "        \"Our internship program is just one of the ways in which we are investing in the future of the industry.\\n\")\n",
        "        return random.choice(responses)\n",
        "\n",
        "    def no_match_intent(self):\n",
        "        responses = (\n",
        "            \"Please tell me more.\\n\",\"Tell me more!\\n\",\"Why do you say that?\\n\",\"I see. Can you elaborate?\\n\",\n",
        "            \"Interesting. Can you tell me more?\\n\",\"I see. How do you think?\\n\",\"Why?\\n\",\n",
        "            \"How do you think I feel when you say that?\\n\")\n",
        "        return random.choice(responses)\n",
        "\n",
        "AlienBot = RuleBot()\n",
        "AlienBot.greet()\n",
        "\n",
        "\n"
      ],
      "metadata": {
        "colab": {
          "base_uri": "https://localhost:8080/"
        },
        "id": "LJ0OMp1Ai_wa",
        "outputId": "5fd4171c-b12e-4908-afab-e97d441d56ab"
      },
      "execution_count": null,
      "outputs": [
        {
          "output_type": "stream",
          "name": "stdout",
          "text": [
            "what is your name?\n",
            "Rashmi\n",
            "Hi Rashmi, I am Rule-Bot. Will you help me learn about your planet?\n",
            "yes sure\n",
            "Are there many humans like you? yes there are!!\n",
            "I see. Can you elaborate?\n",
            "not now, can yoy tell me about codsoft\n",
            "aok\n",
            "Why do you say that?\n",
            "quit\n",
            "Okay,have a nice Earth Day!\n"
          ]
        }
      ]
    }
  ]
}